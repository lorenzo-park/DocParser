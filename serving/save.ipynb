{
 "metadata": {
  "language_info": {
   "codemirror_mode": {
    "name": "ipython",
    "version": 3
   },
   "file_extension": ".py",
   "mimetype": "text/x-python",
   "name": "python",
   "nbconvert_exporter": "python",
   "pygments_lexer": "ipython3",
   "version": "3.7.10"
  },
  "orig_nbformat": 2,
  "kernelspec": {
   "name": "python3710jvsc74a57bd09227fb9cf71a792e7db792fd4c7cf0efe72733ccd0cbb67c1bbabce61ba4f490",
   "display_name": "Python 3.7.10 64-bit ('ds': conda)"
  },
  "metadata": {
   "interpreter": {
    "hash": "9227fb9cf71a792e7db792fd4c7cf0efe72733ccd0cbb67c1bbabce61ba4f490"
   }
  }
 },
 "nbformat": 4,
 "nbformat_minor": 2,
 "cells": [
  {
   "cell_type": "code",
   "execution_count": 1,
   "metadata": {},
   "outputs": [
    {
     "output_type": "stream",
     "name": "stdout",
     "text": [
      "[2021-05-06 00:19:42,676] WARNING - pip package requirement tensorflow already exist\n",
      "Using TensorFlow backend.\n",
      "INFO:tensorflow:Saver not created because there are no variables in the graph to restore\n",
      "[2021-05-06 00:19:46,211] WARNING - Due to TensorFlow's internal mechanism, only methods wrapped under `@tf.function` decorator and the Keras default function `__call__(inputs, training=False)` can be restored after a save & load.\n",
      "You can test the restored model object by referring:\n",
      "<bento_svc>.artifacts.trackable\n",
      "\n",
      "[2021-05-06 00:19:46,212] INFO - Found restored functions:\n",
      "model.signature['serving_default'](input_image_meta, input_image, input_anchors)\n",
      "------------\n",
      "Arguments Option 1:\n",
      "  Positional arguments (0 total):\n",
      "    * \n",
      "  Keyword arguments:\n",
      "    {'input_image_meta': TensorSpec(shape=(None, 41), dtype=tf.float32, name='input_image_meta'), 'input_image': TensorSpec(shape=(None, None, None, 3), dtype=tf.float32, name='input_image'), 'input_anchors': TensorSpec(shape=(None, None, 4), dtype=tf.float32, name='input_anchors')}\n",
      "\n",
      "Return:\n",
      "  {'mrcnn_detection/Reshape_1': TensorSpec(shape=(1, 200, 6), dtype=tf.float32, name='mrcnn_detection/Reshape_1'), 'mrcnn_mask/Reshape_1': TensorSpec(shape=(1, 200, 28, 28, 29), dtype=tf.float32, name='mrcnn_mask/Reshape_1')}\n",
      "\n",
      "\n",
      "\n",
      "[2021-05-06 00:19:47,271] INFO - BentoService bundle 'DocparserService:20210506001946_7B7275' saved to: /home/lorenzo-lab/bentoml/repository/DocparserService/20210506001946_7B7275\n"
     ]
    }
   ],
   "source": [
    "from run import DocparserService"
   ]
  },
  {
   "cell_type": "code",
   "execution_count": 5,
   "metadata": {
    "tags": []
   },
   "outputs": [
    {
     "output_type": "stream",
     "name": "stdout",
     "text": [
      "[2021-05-06 00:20:09,720] WARNING - pip package requirement tensorflow already exist\n",
      "INFO:tensorflow:Saver not created because there are no variables in the graph to restore\n",
      "[2021-05-06 00:20:13,061] WARNING - Due to TensorFlow's internal mechanism, only methods wrapped under `@tf.function` decorator and the Keras default function `__call__(inputs, training=False)` can be restored after a save & load.\n",
      "You can test the restored model object by referring:\n",
      "<bento_svc>.artifacts.trackable\n",
      "\n",
      "[2021-05-06 00:20:13,062] INFO - Found restored functions:\n",
      "model.signature['serving_default'](input_image_meta, input_image, input_anchors)\n",
      "------------\n",
      "Arguments Option 1:\n",
      "  Positional arguments (0 total):\n",
      "    * \n",
      "  Keyword arguments:\n",
      "    {'input_image_meta': TensorSpec(shape=(None, 41), dtype=tf.float32, name='input_image_meta'), 'input_image': TensorSpec(shape=(None, None, None, 3), dtype=tf.float32, name='input_image'), 'input_anchors': TensorSpec(shape=(None, None, 4), dtype=tf.float32, name='input_anchors')}\n",
      "\n",
      "Return:\n",
      "  {'mrcnn_mask/Reshape_1': TensorSpec(shape=(1, 200, 28, 28, 29), dtype=tf.float32, name='mrcnn_mask/Reshape_1'), 'mrcnn_detection/Reshape_1': TensorSpec(shape=(1, 200, 6), dtype=tf.float32, name='mrcnn_detection/Reshape_1')}\n",
      "\n",
      "\n",
      "\n"
     ]
    },
    {
     "output_type": "error",
     "ename": "UnidentifiedImageError",
     "evalue": "cannot identify image file <_io.BytesIO object at 0x7f2c77c22fb0>",
     "traceback": [
      "\u001b[0;31m---------------------------------------------------------------------------\u001b[0m",
      "\u001b[0;31mUnidentifiedImageError\u001b[0m                    Traceback (most recent call last)",
      "\u001b[0;32m<ipython-input-5-d7c4670daec2>\u001b[0m in \u001b[0;36m<module>\u001b[0;34m\u001b[0m\n\u001b[1;32m      3\u001b[0m     \u001b[0mimg_bytes\u001b[0m \u001b[0;34m=\u001b[0m \u001b[0mf\u001b[0m\u001b[0;34m.\u001b[0m\u001b[0mread\u001b[0m\u001b[0;34m(\u001b[0m\u001b[0;34m)\u001b[0m\u001b[0;34m\u001b[0m\u001b[0;34m\u001b[0m\u001b[0m\n\u001b[1;32m      4\u001b[0m     \u001b[0mbento_svc\u001b[0m\u001b[0;34m.\u001b[0m\u001b[0mpack\u001b[0m\u001b[0;34m(\u001b[0m\u001b[0;34m\"trackable\"\u001b[0m\u001b[0;34m,\u001b[0m \u001b[0;34m\"serving_model/1\"\u001b[0m\u001b[0;34m)\u001b[0m\u001b[0;34m\u001b[0m\u001b[0;34m\u001b[0m\u001b[0m\n\u001b[0;32m----> 5\u001b[0;31m     \u001b[0mbento_svc\u001b[0m\u001b[0;34m.\u001b[0m\u001b[0mpredict\u001b[0m\u001b[0;34m(\u001b[0m\u001b[0;34m[\u001b[0m\u001b[0mf\u001b[0m\u001b[0;34m]\u001b[0m\u001b[0;34m)\u001b[0m\u001b[0;34m\u001b[0m\u001b[0;34m\u001b[0m\u001b[0m\n\u001b[0m\u001b[1;32m      6\u001b[0m \u001b[0mbento_svc\u001b[0m\u001b[0;34m.\u001b[0m\u001b[0mpack\u001b[0m\u001b[0;34m(\u001b[0m\u001b[0;34m\"trackable\"\u001b[0m\u001b[0;34m,\u001b[0m \u001b[0;34m\"serving_model/1\"\u001b[0m\u001b[0;34m)\u001b[0m\u001b[0;34m\u001b[0m\u001b[0;34m\u001b[0m\u001b[0m\n\u001b[1;32m      7\u001b[0m \u001b[0;31m# saved_path = bento_svc.save()\u001b[0m\u001b[0;34m\u001b[0m\u001b[0;34m\u001b[0m\u001b[0;34m\u001b[0m\u001b[0m\n",
      "\u001b[0;32m~/project/DocParser/serving/run.py\u001b[0m in \u001b[0;36mpredict\u001b[0;34m(self, inputs)\u001b[0m\n\u001b[1;32m    497\u001b[0m     \u001b[0;32mdef\u001b[0m \u001b[0mpredict\u001b[0m\u001b[0;34m(\u001b[0m\u001b[0mself\u001b[0m\u001b[0;34m,\u001b[0m \u001b[0minputs\u001b[0m\u001b[0;34m)\u001b[0m\u001b[0;34m:\u001b[0m\u001b[0;34m\u001b[0m\u001b[0;34m\u001b[0m\u001b[0m\n\u001b[1;32m    498\u001b[0m         \u001b[0;31m# print(inputs)\u001b[0m\u001b[0;34m\u001b[0m\u001b[0;34m\u001b[0m\u001b[0;34m\u001b[0m\u001b[0m\n\u001b[0;32m--> 499\u001b[0;31m         \u001b[0minputs\u001b[0m \u001b[0;34m=\u001b[0m \u001b[0;34m[\u001b[0m\u001b[0mself\u001b[0m\u001b[0;34m.\u001b[0m\u001b[0mpreprocess\u001b[0m\u001b[0;34m(\u001b[0m\u001b[0mImage\u001b[0m\u001b[0;34m.\u001b[0m\u001b[0mopen\u001b[0m\u001b[0;34m(\u001b[0m\u001b[0mio\u001b[0m\u001b[0;34m.\u001b[0m\u001b[0mBytesIO\u001b[0m\u001b[0;34m(\u001b[0m\u001b[0mi\u001b[0m\u001b[0;34m.\u001b[0m\u001b[0mread\u001b[0m\u001b[0;34m(\u001b[0m\u001b[0;34m)\u001b[0m\u001b[0;34m)\u001b[0m\u001b[0;34m)\u001b[0m\u001b[0;34m)\u001b[0m \u001b[0;32mfor\u001b[0m \u001b[0mi\u001b[0m \u001b[0;32min\u001b[0m \u001b[0minputs\u001b[0m\u001b[0;34m]\u001b[0m\u001b[0;34m\u001b[0m\u001b[0;34m\u001b[0m\u001b[0m\n\u001b[0m\u001b[1;32m    500\u001b[0m         inputs = {\n\u001b[1;32m    501\u001b[0m             \u001b[0mINPUT_ANCHORS\u001b[0m\u001b[0;34m:\u001b[0m \u001b[0;34m[\u001b[0m\u001b[0mi\u001b[0m\u001b[0;34m[\u001b[0m\u001b[0mINPUT_ANCHORS\u001b[0m\u001b[0;34m]\u001b[0m \u001b[0;32mfor\u001b[0m \u001b[0mi\u001b[0m \u001b[0;32min\u001b[0m \u001b[0minputs\u001b[0m\u001b[0;34m]\u001b[0m\u001b[0;34m,\u001b[0m\u001b[0;34m\u001b[0m\u001b[0;34m\u001b[0m\u001b[0m\n",
      "\u001b[0;32m~/project/DocParser/serving/run.py\u001b[0m in \u001b[0;36m<listcomp>\u001b[0;34m(.0)\u001b[0m\n\u001b[1;32m    497\u001b[0m     \u001b[0;32mdef\u001b[0m \u001b[0mpredict\u001b[0m\u001b[0;34m(\u001b[0m\u001b[0mself\u001b[0m\u001b[0;34m,\u001b[0m \u001b[0minputs\u001b[0m\u001b[0;34m)\u001b[0m\u001b[0;34m:\u001b[0m\u001b[0;34m\u001b[0m\u001b[0;34m\u001b[0m\u001b[0m\n\u001b[1;32m    498\u001b[0m         \u001b[0;31m# print(inputs)\u001b[0m\u001b[0;34m\u001b[0m\u001b[0;34m\u001b[0m\u001b[0;34m\u001b[0m\u001b[0m\n\u001b[0;32m--> 499\u001b[0;31m         \u001b[0minputs\u001b[0m \u001b[0;34m=\u001b[0m \u001b[0;34m[\u001b[0m\u001b[0mself\u001b[0m\u001b[0;34m.\u001b[0m\u001b[0mpreprocess\u001b[0m\u001b[0;34m(\u001b[0m\u001b[0mImage\u001b[0m\u001b[0;34m.\u001b[0m\u001b[0mopen\u001b[0m\u001b[0;34m(\u001b[0m\u001b[0mio\u001b[0m\u001b[0;34m.\u001b[0m\u001b[0mBytesIO\u001b[0m\u001b[0;34m(\u001b[0m\u001b[0mi\u001b[0m\u001b[0;34m.\u001b[0m\u001b[0mread\u001b[0m\u001b[0;34m(\u001b[0m\u001b[0;34m)\u001b[0m\u001b[0;34m)\u001b[0m\u001b[0;34m)\u001b[0m\u001b[0;34m)\u001b[0m \u001b[0;32mfor\u001b[0m \u001b[0mi\u001b[0m \u001b[0;32min\u001b[0m \u001b[0minputs\u001b[0m\u001b[0;34m]\u001b[0m\u001b[0;34m\u001b[0m\u001b[0;34m\u001b[0m\u001b[0m\n\u001b[0m\u001b[1;32m    500\u001b[0m         inputs = {\n\u001b[1;32m    501\u001b[0m             \u001b[0mINPUT_ANCHORS\u001b[0m\u001b[0;34m:\u001b[0m \u001b[0;34m[\u001b[0m\u001b[0mi\u001b[0m\u001b[0;34m[\u001b[0m\u001b[0mINPUT_ANCHORS\u001b[0m\u001b[0;34m]\u001b[0m \u001b[0;32mfor\u001b[0m \u001b[0mi\u001b[0m \u001b[0;32min\u001b[0m \u001b[0minputs\u001b[0m\u001b[0;34m]\u001b[0m\u001b[0;34m,\u001b[0m\u001b[0;34m\u001b[0m\u001b[0;34m\u001b[0m\u001b[0m\n",
      "\u001b[0;32m~/anaconda3/envs/ds/lib/python3.7/site-packages/PIL/Image.py\u001b[0m in \u001b[0;36mopen\u001b[0;34m(fp, mode, formats)\u001b[0m\n\u001b[1;32m   2966\u001b[0m         \u001b[0mwarnings\u001b[0m\u001b[0;34m.\u001b[0m\u001b[0mwarn\u001b[0m\u001b[0;34m(\u001b[0m\u001b[0mmessage\u001b[0m\u001b[0;34m)\u001b[0m\u001b[0;34m\u001b[0m\u001b[0;34m\u001b[0m\u001b[0m\n\u001b[1;32m   2967\u001b[0m     raise UnidentifiedImageError(\n\u001b[0;32m-> 2968\u001b[0;31m         \u001b[0;34m\"cannot identify image file %r\"\u001b[0m \u001b[0;34m%\u001b[0m \u001b[0;34m(\u001b[0m\u001b[0mfilename\u001b[0m \u001b[0;32mif\u001b[0m \u001b[0mfilename\u001b[0m \u001b[0;32melse\u001b[0m \u001b[0mfp\u001b[0m\u001b[0;34m)\u001b[0m\u001b[0;34m\u001b[0m\u001b[0;34m\u001b[0m\u001b[0m\n\u001b[0m\u001b[1;32m   2969\u001b[0m     )\n\u001b[1;32m   2970\u001b[0m \u001b[0;34m\u001b[0m\u001b[0m\n",
      "\u001b[0;31mUnidentifiedImageError\u001b[0m: cannot identify image file <_io.BytesIO object at 0x7f2c77c22fb0>"
     ]
    }
   ],
   "source": [
    "bento_svc = DocparserService()\n",
    "with open(\"sample.png\", \"rb\") as f:\n",
    "    bento_svc.pack(\"trackable\", \"serving_model/1\")\n",
    "    bento_svc.predict([f])\n",
    "bento_svc.pack(\"trackable\", \"serving_model/1\")\n",
    "# saved_path = bento_svc.save()"
   ]
  },
  {
   "cell_type": "code",
   "execution_count": 3,
   "metadata": {},
   "outputs": [],
   "source": [
    "# bento_svc = DocparserService()\n",
    "# bento_svc.pack(\"trackable\", \"serving_model/1\")\n",
    "# saved_path = bento_svc.save()"
   ]
  },
  {
   "cell_type": "code",
   "execution_count": null,
   "metadata": {},
   "outputs": [],
   "source": []
  }
 ]
}