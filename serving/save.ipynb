{
 "metadata": {
  "language_info": {
   "codemirror_mode": {
    "name": "ipython",
    "version": 3
   },
   "file_extension": ".py",
   "mimetype": "text/x-python",
   "name": "python",
   "nbconvert_exporter": "python",
   "pygments_lexer": "ipython3",
   "version": "3.7.10"
  },
  "orig_nbformat": 2,
  "kernelspec": {
   "name": "python3710jvsc74a57bd09227fb9cf71a792e7db792fd4c7cf0efe72733ccd0cbb67c1bbabce61ba4f490",
   "display_name": "Python 3.7.10 64-bit ('ds': conda)"
  },
  "metadata": {
   "interpreter": {
    "hash": "9227fb9cf71a792e7db792fd4c7cf0efe72733ccd0cbb67c1bbabce61ba4f490"
   }
  }
 },
 "nbformat": 4,
 "nbformat_minor": 2,
 "cells": [
  {
   "cell_type": "code",
   "execution_count": 9,
   "metadata": {},
   "outputs": [
    {
     "output_type": "stream",
     "name": "stdout",
     "text": [
      "[2021-05-05 18:29:01,918] WARNING - pip package requirement tensorflow already exist\n",
      "INFO:tensorflow:Saver not created because there are no variables in the graph to restore\n",
      "[2021-05-05 18:29:04,640] WARNING - Due to TensorFlow's internal mechanism, only methods wrapped under `@tf.function` decorator and the Keras default function `__call__(inputs, training=False)` can be restored after a save & load.\n",
      "You can test the restored model object by referring:\n",
      "<bento_svc>.artifacts.trackable\n",
      "\n",
      "[2021-05-05 18:29:04,641] INFO - Found restored functions:\n",
      "model.signature['serving_default'](input_image_meta, input_anchors, input_image)\n",
      "------------\n",
      "Arguments Option 1:\n",
      "  Positional arguments (0 total):\n",
      "    * \n",
      "  Keyword arguments:\n",
      "    {'input_image_meta': TensorSpec(shape=(None, 41), dtype=tf.float32, name='input_image_meta'), 'input_anchors': TensorSpec(shape=(None, None, 4), dtype=tf.float32, name='input_anchors'), 'input_image': TensorSpec(shape=(None, None, None, 3), dtype=tf.float32, name='input_image')}\n",
      "\n",
      "Return:\n",
      "  {'mrcnn_detection/Reshape_1': TensorSpec(shape=(1, 200, 6), dtype=tf.float32, name='mrcnn_detection/Reshape_1'), 'mrcnn_mask/Reshape_1': TensorSpec(shape=(1, 200, 28, 28, 29), dtype=tf.float32, name='mrcnn_mask/Reshape_1')}\n",
      "\n",
      "\n",
      "\n",
      "[2021-05-05 18:29:05,517] INFO - BentoService bundle 'DocparserService:20210505182904_D161FC' saved to: /home/lorenzo-lab/bentoml/repository/DocparserService/20210505182904_D161FC\n"
     ]
    }
   ],
   "source": [
    "from run import DocparserService"
   ]
  },
  {
   "cell_type": "code",
   "execution_count": 10,
   "metadata": {},
   "outputs": [
    {
     "output_type": "stream",
     "name": "stdout",
     "text": [
      "[2021-05-05 18:29:07,617] WARNING - pip package requirement tensorflow already exist\n",
      "INFO:tensorflow:Saver not created because there are no variables in the graph to restore\n",
      "[2021-05-05 18:29:10,689] WARNING - Due to TensorFlow's internal mechanism, only methods wrapped under `@tf.function` decorator and the Keras default function `__call__(inputs, training=False)` can be restored after a save & load.\n",
      "You can test the restored model object by referring:\n",
      "<bento_svc>.artifacts.trackable\n",
      "\n",
      "[2021-05-05 18:29:10,690] INFO - Found restored functions:\n",
      "model.signature['serving_default'](input_anchors, input_image, input_image_meta)\n",
      "------------\n",
      "Arguments Option 1:\n",
      "  Positional arguments (0 total):\n",
      "    * \n",
      "  Keyword arguments:\n",
      "    {'input_anchors': TensorSpec(shape=(None, None, 4), dtype=tf.float32, name='input_anchors'), 'input_image': TensorSpec(shape=(None, None, None, 3), dtype=tf.float32, name='input_image'), 'input_image_meta': TensorSpec(shape=(None, 41), dtype=tf.float32, name='input_image_meta')}\n",
      "\n",
      "Return:\n",
      "  {'mrcnn_detection/Reshape_1': TensorSpec(shape=(1, 200, 6), dtype=tf.float32, name='mrcnn_detection/Reshape_1'), 'mrcnn_mask/Reshape_1': TensorSpec(shape=(1, 200, 28, 28, 29), dtype=tf.float32, name='mrcnn_mask/Reshape_1')}\n",
      "\n",
      "\n",
      "\n",
      "[2021-05-05 18:29:11,591] INFO - BentoService bundle 'DocparserService:20210505182910_05B5A0' saved to: /home/lorenzo-lab/bentoml/repository/DocparserService/20210505182910_05B5A0\n"
     ]
    }
   ],
   "source": [
    "bento_svc = DocparserService()\n",
    "bento_svc.pack(\"trackable\", \"serving_model/1\")\n",
    "saved_path = bento_svc.save()"
   ]
  },
  {
   "cell_type": "code",
   "execution_count": null,
   "metadata": {},
   "outputs": [],
   "source": []
  }
 ]
}